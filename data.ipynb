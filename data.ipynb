{
 "cells": [
  {
   "cell_type": "code",
   "execution_count": null,
   "id": "499d726c",
   "metadata": {},
   "outputs": [],
   "source": [
    "import pandas as pd\n",
    "import numpy as np\n",
    "import matplotlib.pyplot as plt\n"
   ]
  },
  {
   "cell_type": "code",
   "execution_count": null,
   "id": "8b50a4c4",
   "metadata": {},
   "outputs": [],
   "source": [
    "df = pd.read_csv('D:\\plp\\python_course\\week 6/covid.csv')"
   ]
  },
  {
   "cell_type": "code",
   "execution_count": 23,
   "id": "c54f2cd8",
   "metadata": {},
   "outputs": [
    {
     "name": "stdout",
     "output_type": "stream",
     "text": [
      "        Date State       Region  Confirmed  Deaths  Recovered\n",
      "0  4/29/2020   NaN  Afghanistan       1939      60        252\n",
      "1  4/29/2020   NaN      Albania        766      30        455\n",
      "2  4/29/2020   NaN      Algeria       3848     444       1702\n",
      "3  4/29/2020   NaN      Andorra        743      42        423\n",
      "4  4/29/2020   NaN       Angola         27       2          7\n"
     ]
    }
   ],
   "source": [
    "print(df.head())"
   ]
  },
  {
   "cell_type": "code",
   "execution_count": null,
   "id": "aa58adb4",
   "metadata": {},
   "outputs": [
    {
     "name": "stdout",
     "output_type": "stream",
     "text": [
      "Date           0\n",
      "State        181\n",
      "Region         0\n",
      "Confirmed      0\n",
      "Deaths         0\n",
      "Recovered      0\n",
      "dtype: int64\n"
     ]
    }
   ],
   "source": [
    "print(df.isnull().sum())"
   ]
  },
  {
   "cell_type": "code",
   "execution_count": 32,
   "id": "1e15532a",
   "metadata": {},
   "outputs": [
    {
     "name": "stdout",
     "output_type": "stream",
     "text": [
      "             Date           State Region      Confirmed        Deaths  \\\n",
      "count         321             140    321     321.000000    321.000000   \n",
      "unique          1             137    187            NaN           NaN   \n",
      "top     4/29/2020  Grand Princess     US            NaN           NaN   \n",
      "freq          321               2     58            NaN           NaN   \n",
      "mean          NaN             NaN    NaN    9949.800623    709.152648   \n",
      "std           NaN             NaN    NaN   31923.853086   3236.162817   \n",
      "min           NaN             NaN    NaN       0.000000      0.000000   \n",
      "25%           NaN             NaN    NaN     104.000000      2.000000   \n",
      "50%           NaN             NaN    NaN     653.000000     12.000000   \n",
      "75%           NaN             NaN    NaN    4655.000000    144.000000   \n",
      "max           NaN             NaN    NaN  299691.000000  27682.000000   \n",
      "\n",
      "            Recovered  \n",
      "count      321.000000  \n",
      "unique            NaN  \n",
      "top               NaN  \n",
      "freq              NaN  \n",
      "mean      3030.277259  \n",
      "std      14364.870365  \n",
      "min          0.000000  \n",
      "25%          2.000000  \n",
      "50%         73.000000  \n",
      "75%        587.000000  \n",
      "max     132929.000000  \n"
     ]
    }
   ],
   "source": [
    "print(df.describe(include='all'))\n"
   ]
  },
  {
   "cell_type": "code",
   "execution_count": 33,
   "id": "9d091594",
   "metadata": {},
   "outputs": [
    {
     "data": {
      "text/html": [
       "<div>\n",
       "<style scoped>\n",
       "    .dataframe tbody tr th:only-of-type {\n",
       "        vertical-align: middle;\n",
       "    }\n",
       "\n",
       "    .dataframe tbody tr th {\n",
       "        vertical-align: top;\n",
       "    }\n",
       "\n",
       "    .dataframe thead th {\n",
       "        text-align: right;\n",
       "    }\n",
       "</style>\n",
       "<table border=\"1\" class=\"dataframe\">\n",
       "  <thead>\n",
       "    <tr style=\"text-align: right;\">\n",
       "      <th></th>\n",
       "      <th>Date</th>\n",
       "      <th>State</th>\n",
       "      <th>Confirmed</th>\n",
       "      <th>Deaths</th>\n",
       "      <th>Recovered</th>\n",
       "    </tr>\n",
       "    <tr>\n",
       "      <th>Region</th>\n",
       "      <th></th>\n",
       "      <th></th>\n",
       "      <th></th>\n",
       "      <th></th>\n",
       "      <th></th>\n",
       "    </tr>\n",
       "  </thead>\n",
       "  <tbody>\n",
       "    <tr>\n",
       "      <th>Afghanistan</th>\n",
       "      <td>4/29/2020</td>\n",
       "      <td>0</td>\n",
       "      <td>1939</td>\n",
       "      <td>60</td>\n",
       "      <td>252</td>\n",
       "    </tr>\n",
       "    <tr>\n",
       "      <th>Albania</th>\n",
       "      <td>4/29/2020</td>\n",
       "      <td>0</td>\n",
       "      <td>766</td>\n",
       "      <td>30</td>\n",
       "      <td>455</td>\n",
       "    </tr>\n",
       "    <tr>\n",
       "      <th>Algeria</th>\n",
       "      <td>4/29/2020</td>\n",
       "      <td>0</td>\n",
       "      <td>3848</td>\n",
       "      <td>444</td>\n",
       "      <td>1702</td>\n",
       "    </tr>\n",
       "    <tr>\n",
       "      <th>Andorra</th>\n",
       "      <td>4/29/2020</td>\n",
       "      <td>0</td>\n",
       "      <td>743</td>\n",
       "      <td>42</td>\n",
       "      <td>423</td>\n",
       "    </tr>\n",
       "    <tr>\n",
       "      <th>Angola</th>\n",
       "      <td>4/29/2020</td>\n",
       "      <td>0</td>\n",
       "      <td>27</td>\n",
       "      <td>2</td>\n",
       "      <td>7</td>\n",
       "    </tr>\n",
       "    <tr>\n",
       "      <th>...</th>\n",
       "      <td>...</td>\n",
       "      <td>...</td>\n",
       "      <td>...</td>\n",
       "      <td>...</td>\n",
       "      <td>...</td>\n",
       "    </tr>\n",
       "    <tr>\n",
       "      <th>West Bank and Gaza</th>\n",
       "      <td>4/29/2020</td>\n",
       "      <td>0</td>\n",
       "      <td>344</td>\n",
       "      <td>2</td>\n",
       "      <td>71</td>\n",
       "    </tr>\n",
       "    <tr>\n",
       "      <th>Western Sahara</th>\n",
       "      <td>4/29/2020</td>\n",
       "      <td>0</td>\n",
       "      <td>6</td>\n",
       "      <td>0</td>\n",
       "      <td>5</td>\n",
       "    </tr>\n",
       "    <tr>\n",
       "      <th>Yemen</th>\n",
       "      <td>4/29/2020</td>\n",
       "      <td>0</td>\n",
       "      <td>6</td>\n",
       "      <td>0</td>\n",
       "      <td>1</td>\n",
       "    </tr>\n",
       "    <tr>\n",
       "      <th>Zambia</th>\n",
       "      <td>4/29/2020</td>\n",
       "      <td>0</td>\n",
       "      <td>97</td>\n",
       "      <td>3</td>\n",
       "      <td>54</td>\n",
       "    </tr>\n",
       "    <tr>\n",
       "      <th>Zimbabwe</th>\n",
       "      <td>4/29/2020</td>\n",
       "      <td>0</td>\n",
       "      <td>32</td>\n",
       "      <td>4</td>\n",
       "      <td>5</td>\n",
       "    </tr>\n",
       "  </tbody>\n",
       "</table>\n",
       "<p>187 rows × 5 columns</p>\n",
       "</div>"
      ],
      "text/plain": [
       "                         Date State  Confirmed  Deaths  Recovered\n",
       "Region                                                           \n",
       "Afghanistan         4/29/2020     0       1939      60        252\n",
       "Albania             4/29/2020     0        766      30        455\n",
       "Algeria             4/29/2020     0       3848     444       1702\n",
       "Andorra             4/29/2020     0        743      42        423\n",
       "Angola              4/29/2020     0         27       2          7\n",
       "...                       ...   ...        ...     ...        ...\n",
       "West Bank and Gaza  4/29/2020     0        344       2         71\n",
       "Western Sahara      4/29/2020     0          6       0          5\n",
       "Yemen               4/29/2020     0          6       0          1\n",
       "Zambia              4/29/2020     0         97       3         54\n",
       "Zimbabwe            4/29/2020     0         32       4          5\n",
       "\n",
       "[187 rows x 5 columns]"
      ]
     },
     "execution_count": 33,
     "metadata": {},
     "output_type": "execute_result"
    }
   ],
   "source": [
    "df.groupby('Region').sum()"
   ]
  },
  {
   "cell_type": "code",
   "execution_count": 58,
   "id": "d771a1be",
   "metadata": {},
   "outputs": [
    {
     "data": {
      "image/png": "[encoded data removed]",
      "text/plain": [
       "<Figure size 640x480 with 1 Axes>"
      ]
     },
     "metadata": {},
     "output_type": "display_data"
    }
   ],
   "source": [
    "#task 3 \n",
    "#bar-chart = region vs confirmed\n",
    "#line grph = date vs recovered (treands over time)\n",
    "#scatter plot= recovered vs confirmed\n",
    "\n",
    "#\n",
    "\n",
    "plt.plot(df['Date'].head(5), df['Deaths'].head(5), label = 'line', color = 'green') \n",
    "plt.title('Deaths over time')\n",
    "plt.xlabel('Date')\n",
    "plt.ylabel('Deaths')\n",
    "plt.show()\n",
    "\n",
    "\n"
   ]
  },
  {
   "cell_type": "code",
   "execution_count": null,
   "id": "4a62b26b",
   "metadata": {},
   "outputs": [],
   "source": []
  },
  {
   "cell_type": "code",
   "execution_count": 62,
   "id": "416253e7",
   "metadata": {},
   "outputs": [
    {
     "data": {
      "image/png": "[encoded data removed]",
      "text/plain": [
       "<Figure size 640x480 with 1 Axes>"
      ]
     },
     "metadata": {},
     "output_type": "display_data"
    }
   ],
   "source": [
    "#histogram\n",
    "\n",
    "data= df['Confirmed'].head(15)\n",
    "\n",
    "plt.hist(data, bins =5, color='orange')\n",
    "plt.title('confirmed deaths')\n",
    "plt.xlabel('confirmed')\n",
    "plt.ylabel('y-axis')\n",
    "plt.show()"
   ]
  },
  {
   "cell_type": "code",
   "execution_count": 64,
   "id": "282bd76f",
   "metadata": {},
   "outputs": [
    {
     "data": {
      "image/png": "[encoded data removed]",
      "text/plain": [
       "<Figure size 640x480 with 1 Axes>"
      ]
     },
     "metadata": {},
     "output_type": "display_data"
    }
   ],
   "source": [
    "#scatter plot\n",
    "\n",
    "recovered= df['Recovered'].head(5)\n",
    "confirmed = df['Confirmed'].head(5)\n",
    "\n",
    "plt.scatter(recovered, confirmed, color='red')\n",
    "plt.title('Recovered vs confirmed')\n",
    "plt.xlabel('Recovered')\n",
    "plt.ylabel('confirmed')\n",
    "plt.show()"
   ]
  },
  {
   "cell_type": "code",
   "execution_count": 57,
   "id": "92d52de3",
   "metadata": {},
   "outputs": [
    {
     "data": {
      "image/png": "[encoded data removed]",
      "text/plain": [
       "<Figure size 640x480 with 1 Axes>"
      ]
     },
     "metadata": {},
     "output_type": "display_data"
    }
   ],
   "source": [
    "#bar chart\n",
    "\n",
    "region =df['Region'].head(5)\n",
    "death_numbers = df['Deaths'].head(5)\n",
    "\n",
    "plt.bar(region, death_numbers, color= 'blue')\n",
    "plt.title ('number of deaths')\n",
    "plt.xlabel('region')\n",
    "plt.ylabel('deaths_numbers')\n",
    "plt.show()"
   ]
  },
  {
   "cell_type": "code",
   "execution_count": 30,
   "id": "eaa419e9",
   "metadata": {},
   "outputs": [],
   "source": [
    "df_clean = df.dropna()"
   ]
  }
 ],
 "metadata": {
  "kernelspec": {
   "display_name": "Python 3",
   "language": "python",
   "name": "python3"
  },
  "language_info": {
   "codemirror_mode": {
    "name": "ipython",
    "version": 3
   },
   "file_extension": ".py",
   "mimetype": "text/x-python",
   "name": "python",
   "nbconvert_exporter": "python",
   "pygments_lexer": "ipython3",
   "version": "3.11.9"
  }
 },
 "nbformat": 4,
 "nbformat_minor": 5
}
